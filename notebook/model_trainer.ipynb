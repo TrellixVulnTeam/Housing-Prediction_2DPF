{
 "cells": [
  {
   "cell_type": "code",
   "execution_count": 3,
   "metadata": {},
   "outputs": [],
   "source": [
    "from housing.entity.model_factory import ModelFactory,get_sample_model_config_yaml_file"
   ]
  },
  {
   "cell_type": "code",
   "execution_count": 4,
   "metadata": {},
   "outputs": [
    {
     "data": {
      "text/plain": [
       "'c:\\\\Users\\\\pc\\\\Desktop\\\\Machine Learning\\\\Housing-Prediction\\\\notebook'"
      ]
     },
     "execution_count": 4,
     "metadata": {},
     "output_type": "execute_result"
    }
   ],
   "source": [
    "os.getcwd()\n"
   ]
  },
  {
   "cell_type": "code",
   "execution_count": 5,
   "metadata": {},
   "outputs": [
    {
     "data": {
      "text/plain": [
       "'config\\\\model.yaml'"
      ]
     },
     "execution_count": 5,
     "metadata": {},
     "output_type": "execute_result"
    }
   ],
   "source": [
    "get_sample_model_config_yaml_file(export_dir=\"config\")"
   ]
  },
  {
   "cell_type": "code",
   "execution_count": 6,
   "metadata": {},
   "outputs": [],
   "source": [
    "from sklearn.linear_model import LinearRegression\n"
   ]
  },
  {
   "cell_type": "code",
   "execution_count": 7,
   "metadata": {},
   "outputs": [
    {
     "data": {
      "text/plain": [
       "LinearRegression()"
      ]
     },
     "execution_count": 7,
     "metadata": {},
     "output_type": "execute_result"
    }
   ],
   "source": [
    "LinearRegression()"
   ]
  },
  {
   "cell_type": "code",
   "execution_count": 8,
   "metadata": {},
   "outputs": [],
   "source": [
    "model_config_file=r\"C:\\Users\\pc\\Desktop\\Machine Learning\\Housing-Prediction\\notebook\\config\\model.yaml\""
   ]
  },
  {
   "cell_type": "code",
   "execution_count": 9,
   "metadata": {},
   "outputs": [],
   "source": [
    "model_factory = ModelFactory(model_config_path=model_config_file)"
   ]
  },
  {
   "cell_type": "code",
   "execution_count": 10,
   "metadata": {},
   "outputs": [
    {
     "name": "stdout",
     "output_type": "stream",
     "text": [
      "{'fit_intercept': True}\n",
      "{'n_estimators': 40, 'min_samples_leaf': 2}\n"
     ]
    }
   ],
   "source": [
    "model_list = model_factory.get_initialized_model_list()\n"
   ]
  },
  {
   "cell_type": "code",
   "execution_count": 11,
   "metadata": {},
   "outputs": [
    {
     "data": {
      "text/plain": [
       "2"
      ]
     },
     "execution_count": 11,
     "metadata": {},
     "output_type": "execute_result"
    }
   ],
   "source": [
    "len(model_list)"
   ]
  },
  {
   "cell_type": "code",
   "execution_count": 12,
   "metadata": {},
   "outputs": [
    {
     "data": {
      "text/plain": [
       "InitializedModelDetail(model_serial_number='module_1', model=RandomForestRegressor(min_samples_leaf=2, n_estimators=40), param_grid_search={'min_samples_leaf': [2, 4, 6], 'n_estimators': [50, 100, 80]}, model_name='sklearn.ensemble.RandomForestRegressor')"
      ]
     },
     "execution_count": 12,
     "metadata": {},
     "output_type": "execute_result"
    }
   ],
   "source": [
    "model_list[1]"
   ]
  },
  {
   "cell_type": "code",
   "execution_count": 13,
   "metadata": {},
   "outputs": [
    {
     "name": "stderr",
     "output_type": "stream",
     "text": [
      "c:\\Users\\pc\\Desktop\\Machine Learning\\Housing-Prediction\\venv\\lib\\importlib\\_bootstrap.py:219: RuntimeWarning: numpy.ufunc size changed, may indicate binary incompatibility. Expected 192 from C header, got 216 from PyObject\n",
      "  return f(*args, **kwds)\n"
     ]
    }
   ],
   "source": [
    "from housing.util.util import load_numpy_array_data"
   ]
  },
  {
   "cell_type": "code",
   "execution_count": 14,
   "metadata": {},
   "outputs": [],
   "source": [
    "data_file_path=r\"C:\\Users\\pc\\Desktop\\Machine Learning\\Housing-Prediction\\housing\\artifact\\data_transformation\\2022-08-23-23-39-52\\transformed_data\\train\\housing.npz\""
   ]
  },
  {
   "cell_type": "code",
   "execution_count": 15,
   "metadata": {},
   "outputs": [],
   "source": [
    "data = load_numpy_array_data(data_file_path)"
   ]
  },
  {
   "cell_type": "code",
   "execution_count": 16,
   "metadata": {},
   "outputs": [],
   "source": [
    "x,y = data[:,:-1],data[:,-1]"
   ]
  },
  {
   "cell_type": "code",
   "execution_count": 18,
   "metadata": {},
   "outputs": [
    {
     "name": "stdout",
     "output_type": "stream",
     "text": [
      "{'fit_intercept': True}\n",
      "{'n_estimators': 40, 'min_samples_leaf': 2}\n",
      "{'cv': 4, 'verbose': 2}\n",
      "Fitting 4 folds for each of 2 candidates, totalling 8 fits\n",
      "[CV] END .................................fit_intercept=True; total time=   0.0s\n",
      "[CV] END .................................fit_intercept=True; total time=   0.0s\n",
      "[CV] END .................................fit_intercept=True; total time=   0.0s\n",
      "[CV] END .................................fit_intercept=True; total time=   0.0s\n",
      "[CV] END ................................fit_intercept=False; total time=   0.0s\n",
      "[CV] END ................................fit_intercept=False; total time=   0.0s\n",
      "[CV] END ................................fit_intercept=False; total time=   0.0s\n",
      "[CV] END ................................fit_intercept=False; total time=   0.0s\n",
      "{'cv': 4, 'verbose': 2}\n",
      "Fitting 4 folds for each of 9 candidates, totalling 36 fits\n",
      "[CV] END ................min_samples_leaf=2, n_estimators=50; total time=   8.6s\n",
      "[CV] END ................min_samples_leaf=2, n_estimators=50; total time=   8.3s\n",
      "[CV] END ................min_samples_leaf=2, n_estimators=50; total time=   7.5s\n",
      "[CV] END ................min_samples_leaf=2, n_estimators=50; total time=   7.4s\n",
      "[CV] END ...............min_samples_leaf=2, n_estimators=100; total time=  14.7s\n",
      "[CV] END ...............min_samples_leaf=2, n_estimators=100; total time=  14.7s\n",
      "[CV] END ...............min_samples_leaf=2, n_estimators=100; total time=  14.8s\n",
      "[CV] END ...............min_samples_leaf=2, n_estimators=100; total time=  15.2s\n",
      "[CV] END ................min_samples_leaf=2, n_estimators=80; total time=  12.2s\n",
      "[CV] END ................min_samples_leaf=2, n_estimators=80; total time=  12.0s\n",
      "[CV] END ................min_samples_leaf=2, n_estimators=80; total time=  12.0s\n",
      "[CV] END ................min_samples_leaf=2, n_estimators=80; total time=  12.0s\n",
      "[CV] END ................min_samples_leaf=4, n_estimators=50; total time=   6.6s\n",
      "[CV] END ................min_samples_leaf=4, n_estimators=50; total time=   6.6s\n",
      "[CV] END ................min_samples_leaf=4, n_estimators=50; total time=   6.6s\n",
      "[CV] END ................min_samples_leaf=4, n_estimators=50; total time=   6.6s\n",
      "[CV] END ...............min_samples_leaf=4, n_estimators=100; total time=  13.1s\n",
      "[CV] END ...............min_samples_leaf=4, n_estimators=100; total time=  13.0s\n",
      "[CV] END ...............min_samples_leaf=4, n_estimators=100; total time=  13.1s\n",
      "[CV] END ...............min_samples_leaf=4, n_estimators=100; total time=  13.0s\n",
      "[CV] END ................min_samples_leaf=4, n_estimators=80; total time=  10.5s\n",
      "[CV] END ................min_samples_leaf=4, n_estimators=80; total time=  11.2s\n",
      "[CV] END ................min_samples_leaf=4, n_estimators=80; total time=  13.5s\n",
      "[CV] END ................min_samples_leaf=4, n_estimators=80; total time=  10.5s\n",
      "[CV] END ................min_samples_leaf=6, n_estimators=50; total time=   6.1s\n",
      "[CV] END ................min_samples_leaf=6, n_estimators=50; total time=   8.3s\n",
      "[CV] END ................min_samples_leaf=6, n_estimators=50; total time=   6.3s\n",
      "[CV] END ................min_samples_leaf=6, n_estimators=50; total time=   6.2s\n",
      "[CV] END ...............min_samples_leaf=6, n_estimators=100; total time=  12.2s\n",
      "[CV] END ...............min_samples_leaf=6, n_estimators=100; total time=  12.2s\n",
      "[CV] END ...............min_samples_leaf=6, n_estimators=100; total time=  12.1s\n",
      "[CV] END ...............min_samples_leaf=6, n_estimators=100; total time=  12.3s\n",
      "[CV] END ................min_samples_leaf=6, n_estimators=80; total time=   9.8s\n",
      "[CV] END ................min_samples_leaf=6, n_estimators=80; total time=   9.8s\n",
      "[CV] END ................min_samples_leaf=6, n_estimators=80; total time=   9.8s\n",
      "[CV] END ................min_samples_leaf=6, n_estimators=80; total time=  10.0s\n"
     ]
    }
   ],
   "source": [
    "best_model = model_factory.get_best_model(x,y,0.6)\n"
   ]
  },
  {
   "cell_type": "code",
   "execution_count": 19,
   "metadata": {},
   "outputs": [
    {
     "data": {
      "text/plain": [
       "RandomForestRegressor(min_samples_leaf=2)"
      ]
     },
     "execution_count": 19,
     "metadata": {},
     "output_type": "execute_result"
    }
   ],
   "source": [
    "best_model.best_model"
   ]
  },
  {
   "cell_type": "code",
   "execution_count": 20,
   "metadata": {},
   "outputs": [
    {
     "data": {
      "text/plain": [
       "GridSearchedBestModel(model_serial_number='module_0', model=LinearRegression(), best_model=LinearRegression(fit_intercept=False), best_parameters={'fit_intercept': False}, best_score=0.6393153733826)"
      ]
     },
     "execution_count": 20,
     "metadata": {},
     "output_type": "execute_result"
    }
   ],
   "source": [
    "model_factory.grid_searched_best_model_list[0]\n"
   ]
  },
  {
   "cell_type": "code",
   "execution_count": 21,
   "metadata": {},
   "outputs": [
    {
     "data": {
      "text/plain": [
       "[InitializedModelDetail(model_serial_number='module_0', model=LinearRegression(), param_grid_search={'fit_intercept': [True, False]}, model_name='sklearn.linear_model.LinearRegression'),\n",
       " InitializedModelDetail(model_serial_number='module_1', model=RandomForestRegressor(min_samples_leaf=2, n_estimators=40), param_grid_search={'min_samples_leaf': [2, 4, 6], 'n_estimators': [50, 100, 80]}, model_name='sklearn.ensemble.RandomForestRegressor')]"
      ]
     },
     "execution_count": 21,
     "metadata": {},
     "output_type": "execute_result"
    }
   ],
   "source": [
    "model_factory.initialized_model_list\n"
   ]
  },
  {
   "cell_type": "code",
   "execution_count": null,
   "metadata": {},
   "outputs": [],
   "source": []
  }
 ],
 "metadata": {
  "kernelspec": {
   "display_name": "Python 3.7.0 (conda)",
   "language": "python",
   "name": "python3"
  },
  "language_info": {
   "codemirror_mode": {
    "name": "ipython",
    "version": 3
   },
   "file_extension": ".py",
   "mimetype": "text/x-python",
   "name": "python",
   "nbconvert_exporter": "python",
   "pygments_lexer": "ipython3",
   "version": "3.7.0"
  },
  "orig_nbformat": 4,
  "vscode": {
   "interpreter": {
    "hash": "219c825a5be1e5d79ca354316e7a965f6f9a373705b6c54723f3faa61cd34146"
   }
  }
 },
 "nbformat": 4,
 "nbformat_minor": 2
}
